{
 "cells": [
  {
   "cell_type": "markdown",
   "id": "11c38dea",
   "metadata": {},
   "source": [
    "### Importação das bibliotecas "
   ]
  },
  {
   "cell_type": "code",
   "execution_count": 118,
   "id": "0d84dae5",
   "metadata": {},
   "outputs": [],
   "source": [
    "import statistics\n",
    "import pandas as pd\n",
    "import numpy as np\n",
    "import matplotlib.pyplot as plt\n",
    "import seaborn as sns"
   ]
  },
  {
   "cell_type": "markdown",
   "id": "8ad6553d",
   "metadata": {},
   "source": [
    "### Leitura dos dados"
   ]
  },
  {
   "cell_type": "code",
   "execution_count": 40,
   "id": "d8584396",
   "metadata": {},
   "outputs": [
    {
     "data": {
      "text/html": [
       "<div>\n",
       "<style scoped>\n",
       "    .dataframe tbody tr th:only-of-type {\n",
       "        vertical-align: middle;\n",
       "    }\n",
       "\n",
       "    .dataframe tbody tr th {\n",
       "        vertical-align: top;\n",
       "    }\n",
       "\n",
       "    .dataframe thead th {\n",
       "        text-align: right;\n",
       "    }\n",
       "</style>\n",
       "<table border=\"1\" class=\"dataframe\">\n",
       "  <thead>\n",
       "    <tr style=\"text-align: right;\">\n",
       "      <th></th>\n",
       "      <th>coluna_1</th>\n",
       "      <th>coluna_2</th>\n",
       "      <th>coluna_3</th>\n",
       "      <th>coluna_4</th>\n",
       "      <th>coluna_5</th>\n",
       "      <th>coluna_6</th>\n",
       "      <th>coluna_7</th>\n",
       "      <th>coluna_8</th>\n",
       "      <th>coluna_9</th>\n",
       "      <th>coluna_10</th>\n",
       "    </tr>\n",
       "  </thead>\n",
       "  <tbody>\n",
       "    <tr>\n",
       "      <th>0</th>\n",
       "      <td>161</td>\n",
       "      <td>162</td>\n",
       "      <td>163</td>\n",
       "      <td>163</td>\n",
       "      <td>163</td>\n",
       "      <td>164</td>\n",
       "      <td>165</td>\n",
       "      <td>165</td>\n",
       "      <td>165</td>\n",
       "      <td>166</td>\n",
       "    </tr>\n",
       "    <tr>\n",
       "      <th>1</th>\n",
       "      <td>166</td>\n",
       "      <td>166</td>\n",
       "      <td>167</td>\n",
       "      <td>167</td>\n",
       "      <td>167</td>\n",
       "      <td>168</td>\n",
       "      <td>168</td>\n",
       "      <td>168</td>\n",
       "      <td>168</td>\n",
       "      <td>168</td>\n",
       "    </tr>\n",
       "    <tr>\n",
       "      <th>2</th>\n",
       "      <td>169</td>\n",
       "      <td>169</td>\n",
       "      <td>169</td>\n",
       "      <td>169</td>\n",
       "      <td>169</td>\n",
       "      <td>170</td>\n",
       "      <td>170</td>\n",
       "      <td>170</td>\n",
       "      <td>170</td>\n",
       "      <td>170</td>\n",
       "    </tr>\n",
       "    <tr>\n",
       "      <th>3</th>\n",
       "      <td>171</td>\n",
       "      <td>171</td>\n",
       "      <td>171</td>\n",
       "      <td>172</td>\n",
       "      <td>172</td>\n",
       "      <td>172</td>\n",
       "      <td>172</td>\n",
       "      <td>173</td>\n",
       "      <td>173</td>\n",
       "      <td>174</td>\n",
       "    </tr>\n",
       "    <tr>\n",
       "      <th>4</th>\n",
       "      <td>174</td>\n",
       "      <td>174</td>\n",
       "      <td>175</td>\n",
       "      <td>175</td>\n",
       "      <td>175</td>\n",
       "      <td>176</td>\n",
       "      <td>176</td>\n",
       "      <td>176</td>\n",
       "      <td>177</td>\n",
       "      <td>177</td>\n",
       "    </tr>\n",
       "    <tr>\n",
       "      <th>5</th>\n",
       "      <td>178</td>\n",
       "      <td>179</td>\n",
       "      <td>179</td>\n",
       "      <td>180</td>\n",
       "      <td>180</td>\n",
       "      <td>181</td>\n",
       "      <td>182</td>\n",
       "      <td>184</td>\n",
       "      <td>187</td>\n",
       "      <td>188</td>\n",
       "    </tr>\n",
       "  </tbody>\n",
       "</table>\n",
       "</div>"
      ],
      "text/plain": [
       "   coluna_1  coluna_2  coluna_3  coluna_4  coluna_5  coluna_6  coluna_7  \\\n",
       "0       161       162       163       163       163       164       165   \n",
       "1       166       166       167       167       167       168       168   \n",
       "2       169       169       169       169       169       170       170   \n",
       "3       171       171       171       172       172       172       172   \n",
       "4       174       174       175       175       175       176       176   \n",
       "5       178       179       179       180       180       181       182   \n",
       "\n",
       "   coluna_8  coluna_9  coluna_10  \n",
       "0       165       165        166  \n",
       "1       168       168        168  \n",
       "2       170       170        170  \n",
       "3       173       173        174  \n",
       "4       176       177        177  \n",
       "5       184       187        188  "
      ]
     },
     "execution_count": 40,
     "metadata": {},
     "output_type": "execute_result"
    }
   ],
   "source": [
    "df = pd.read_excel('dados.xlsx')\n",
    "df"
   ]
  },
  {
   "cell_type": "markdown",
   "id": "38590372",
   "metadata": {},
   "source": [
    "## Perguntas "
   ]
  },
  {
   "cell_type": "markdown",
   "id": "be558bd5",
   "metadata": {},
   "source": [
    "### 1) Obtenha a média e o desvio padrão da amostra de dados"
   ]
  },
  {
   "cell_type": "code",
   "execution_count": 44,
   "id": "907ffd63",
   "metadata": {},
   "outputs": [],
   "source": [
    "### Concatena todos os valores da planilha em uma única série \n",
    "dados = df.values.flatten()"
   ]
  },
  {
   "cell_type": "code",
   "execution_count": 45,
   "id": "91f7684f",
   "metadata": {},
   "outputs": [],
   "source": [
    "dados = pd.Series(dados).dropna()"
   ]
  },
  {
   "cell_type": "code",
   "execution_count": 46,
   "id": "bca8498b",
   "metadata": {},
   "outputs": [],
   "source": [
    "# Calcula média e desvio padrão da amostra \n",
    "media = dados.mean()"
   ]
  },
  {
   "cell_type": "code",
   "execution_count": 47,
   "id": "41f452a3",
   "metadata": {},
   "outputs": [],
   "source": [
    "desvio_padrao_amostral = dados.std(ddof=1)"
   ]
  },
  {
   "cell_type": "code",
   "execution_count": 48,
   "id": "e39f7298",
   "metadata": {},
   "outputs": [
    {
     "data": {
      "text/plain": [
       "(171.65, 6.114237344516872)"
      ]
     },
     "execution_count": 48,
     "metadata": {},
     "output_type": "execute_result"
    }
   ],
   "source": [
    "media, desvio_padrao_amostral"
   ]
  },
  {
   "cell_type": "markdown",
   "id": "4e50da3e",
   "metadata": {},
   "source": [
    "### 2) Faça uma distribuição de frequência para os dados absoluta e relativas (simples e acumuladas) e os pontos médios;  "
   ]
  },
  {
   "cell_type": "code",
   "execution_count": 49,
   "id": "cd257cd0",
   "metadata": {},
   "outputs": [],
   "source": [
    "# Calcula os limites de classe usando o método de Sturges\n",
    "num_classes = int(1 + 3.322 * np.log10(len(dados)))"
   ]
  },
  {
   "cell_type": "code",
   "execution_count": 50,
   "id": "2f4bcbf2",
   "metadata": {},
   "outputs": [],
   "source": [
    "# Cria a distribuição de frequência \n",
    "frequencia_absoluta, classes = np.histogram(dados, bins=num_classes) \n",
    "intervalos = pd.IntervalIndex.from_breaks(classes)"
   ]
  },
  {
   "cell_type": "code",
   "execution_count": 51,
   "id": "e732ec8f",
   "metadata": {},
   "outputs": [],
   "source": [
    "## Frequência relativa simples\n",
    "frequencia_relativa = frequencia_absoluta / len(dados)"
   ]
  },
  {
   "cell_type": "code",
   "execution_count": 52,
   "id": "5ebb788c",
   "metadata": {},
   "outputs": [],
   "source": [
    "## Frequências acumuladas \n",
    "frequencia_absoluta_acumulada = np.cumsum(frequencia_absoluta) \n",
    "frequencia_relativa_acumulada = np.cumsum(frequencia_relativa)"
   ]
  },
  {
   "cell_type": "code",
   "execution_count": 53,
   "id": "4672792f",
   "metadata": {},
   "outputs": [],
   "source": [
    "## Pontos médios \n",
    "pontos_medios = [(interval.left + interval.right) / 2 for interval in intervalos]"
   ]
  },
  {
   "cell_type": "code",
   "execution_count": 54,
   "id": "b9179b0e",
   "metadata": {},
   "outputs": [],
   "source": [
    "## Monta o DataFrame \n",
    "tabela_freq = pd.DataFrame({\n",
    "    \n",
    "    \"Classe\": intervalos.astype(str), \n",
    "    \"Ponto Médio\": pontos_medios, \n",
    "    \"Frequência Absoluta\": frequencia_absoluta, \n",
    "    \"Frequência Relativa (%)\": np.round(frequencia_relativa * 100, 2),\n",
    "    \"Frequência Absoluta Acumulada\": frequencia_absoluta_acumulada, \n",
    "    \"Frequência Relativa Acumulada (%)\": np.round(frequencia_relativa_acumulada * 100, 2)\n",
    "})"
   ]
  },
  {
   "cell_type": "code",
   "execution_count": 55,
   "id": "3c3b1972",
   "metadata": {},
   "outputs": [
    {
     "data": {
      "text/html": [
       "<div>\n",
       "<style scoped>\n",
       "    .dataframe tbody tr th:only-of-type {\n",
       "        vertical-align: middle;\n",
       "    }\n",
       "\n",
       "    .dataframe tbody tr th {\n",
       "        vertical-align: top;\n",
       "    }\n",
       "\n",
       "    .dataframe thead th {\n",
       "        text-align: right;\n",
       "    }\n",
       "</style>\n",
       "<table border=\"1\" class=\"dataframe\">\n",
       "  <thead>\n",
       "    <tr style=\"text-align: right;\">\n",
       "      <th></th>\n",
       "      <th>Classe</th>\n",
       "      <th>Ponto Médio</th>\n",
       "      <th>Frequência Absoluta</th>\n",
       "      <th>Frequência Relativa (%)</th>\n",
       "      <th>Frequência Absoluta Acumulada</th>\n",
       "      <th>Frequência Relativa Acumulada (%)</th>\n",
       "    </tr>\n",
       "  </thead>\n",
       "  <tbody>\n",
       "    <tr>\n",
       "      <th>0</th>\n",
       "      <td>(161.0, 165.5]</td>\n",
       "      <td>163.25</td>\n",
       "      <td>9</td>\n",
       "      <td>15.00</td>\n",
       "      <td>9</td>\n",
       "      <td>15.00</td>\n",
       "    </tr>\n",
       "    <tr>\n",
       "      <th>1</th>\n",
       "      <td>(165.5, 170.0]</td>\n",
       "      <td>167.75</td>\n",
       "      <td>16</td>\n",
       "      <td>26.67</td>\n",
       "      <td>25</td>\n",
       "      <td>41.67</td>\n",
       "    </tr>\n",
       "    <tr>\n",
       "      <th>2</th>\n",
       "      <td>(170.0, 174.5]</td>\n",
       "      <td>172.25</td>\n",
       "      <td>17</td>\n",
       "      <td>28.33</td>\n",
       "      <td>42</td>\n",
       "      <td>70.00</td>\n",
       "    </tr>\n",
       "    <tr>\n",
       "      <th>3</th>\n",
       "      <td>(174.5, 179.0]</td>\n",
       "      <td>176.75</td>\n",
       "      <td>9</td>\n",
       "      <td>15.00</td>\n",
       "      <td>51</td>\n",
       "      <td>85.00</td>\n",
       "    </tr>\n",
       "    <tr>\n",
       "      <th>4</th>\n",
       "      <td>(179.0, 183.5]</td>\n",
       "      <td>181.25</td>\n",
       "      <td>6</td>\n",
       "      <td>10.00</td>\n",
       "      <td>57</td>\n",
       "      <td>95.00</td>\n",
       "    </tr>\n",
       "    <tr>\n",
       "      <th>5</th>\n",
       "      <td>(183.5, 188.0]</td>\n",
       "      <td>185.75</td>\n",
       "      <td>3</td>\n",
       "      <td>5.00</td>\n",
       "      <td>60</td>\n",
       "      <td>100.00</td>\n",
       "    </tr>\n",
       "  </tbody>\n",
       "</table>\n",
       "</div>"
      ],
      "text/plain": [
       "           Classe  Ponto Médio  Frequência Absoluta  Frequência Relativa (%)  \\\n",
       "0  (161.0, 165.5]       163.25                    9                    15.00   \n",
       "1  (165.5, 170.0]       167.75                   16                    26.67   \n",
       "2  (170.0, 174.5]       172.25                   17                    28.33   \n",
       "3  (174.5, 179.0]       176.75                    9                    15.00   \n",
       "4  (179.0, 183.5]       181.25                    6                    10.00   \n",
       "5  (183.5, 188.0]       185.75                    3                     5.00   \n",
       "\n",
       "   Frequência Absoluta Acumulada  Frequência Relativa Acumulada (%)  \n",
       "0                              9                              15.00  \n",
       "1                             25                              41.67  \n",
       "2                             42                              70.00  \n",
       "3                             51                              85.00  \n",
       "4                             57                              95.00  \n",
       "5                             60                             100.00  "
      ]
     },
     "execution_count": 55,
     "metadata": {},
     "output_type": "execute_result"
    }
   ],
   "source": [
    "tabela_freq"
   ]
  },
  {
   "cell_type": "markdown",
   "id": "3dd1fe71",
   "metadata": {},
   "source": [
    "### 3) Construir os histogramas e os polígonos das frequências absolutas e relativas (simples e acumuladas); "
   ]
  },
  {
   "cell_type": "code",
   "execution_count": 58,
   "id": "cf374b14",
   "metadata": {},
   "outputs": [],
   "source": [
    "### Transformar todos os dados em uma única série \n",
    "valores = df.values.flatten()\n",
    "serie = pd.Series(valores)"
   ]
  },
  {
   "cell_type": "code",
   "execution_count": 62,
   "id": "fe563e8e",
   "metadata": {},
   "outputs": [],
   "source": [
    "# Calcular frequências \n",
    "frequencia_absoluta = serie.value_counts().sort_index()\n",
    "frequencia_relativa = frequencia_absoluta / frequencia_absoluta.sum() \n",
    "frequencia_absoluta_acumulada = frequencia_absoluta.cumsum()\n",
    "frequencia_relativa_acumulada = frequencia_relativa.cumsum()"
   ]
  },
  {
   "cell_type": "code",
   "execution_count": 63,
   "id": "c9ed73ec",
   "metadata": {},
   "outputs": [],
   "source": [
    "# Juntar em um DataFrame\n",
    "tabela_frequencias = pd.DataFrame({\n",
    "    \n",
    "    'Frequência Absoluta': frequencia_absoluta, \n",
    "    'Frequência Relativa': frequencia_relativa, \n",
    "    'Frequência Absoluta Acumulada': frequencia_absoluta_acumulada, \n",
    "    'Frequência Relativa Acumulada': frequencia_relativa_acumulada\n",
    "})"
   ]
  },
  {
   "cell_type": "code",
   "execution_count": 64,
   "id": "52cd7212",
   "metadata": {},
   "outputs": [
    {
     "name": "stdout",
     "output_type": "stream",
     "text": [
      "     Frequência Absoluta  Frequência Relativa  Frequência Absoluta Acumulada  \\\n",
      "161                    1             0.016667                              1   \n",
      "162                    1             0.016667                              2   \n",
      "163                    3             0.050000                              5   \n",
      "164                    1             0.016667                              6   \n",
      "165                    3             0.050000                              9   \n",
      "166                    3             0.050000                             12   \n",
      "167                    3             0.050000                             15   \n",
      "168                    5             0.083333                             20   \n",
      "169                    5             0.083333                             25   \n",
      "170                    5             0.083333                             30   \n",
      "171                    3             0.050000                             33   \n",
      "172                    4             0.066667                             37   \n",
      "173                    2             0.033333                             39   \n",
      "174                    3             0.050000                             42   \n",
      "175                    3             0.050000                             45   \n",
      "176                    3             0.050000                             48   \n",
      "177                    2             0.033333                             50   \n",
      "178                    1             0.016667                             51   \n",
      "179                    2             0.033333                             53   \n",
      "180                    2             0.033333                             55   \n",
      "181                    1             0.016667                             56   \n",
      "182                    1             0.016667                             57   \n",
      "184                    1             0.016667                             58   \n",
      "187                    1             0.016667                             59   \n",
      "188                    1             0.016667                             60   \n",
      "\n",
      "     Frequência Relativa Acumulada  \n",
      "161                       0.016667  \n",
      "162                       0.033333  \n",
      "163                       0.083333  \n",
      "164                       0.100000  \n",
      "165                       0.150000  \n",
      "166                       0.200000  \n",
      "167                       0.250000  \n",
      "168                       0.333333  \n",
      "169                       0.416667  \n",
      "170                       0.500000  \n",
      "171                       0.550000  \n",
      "172                       0.616667  \n",
      "173                       0.650000  \n",
      "174                       0.700000  \n",
      "175                       0.750000  \n",
      "176                       0.800000  \n",
      "177                       0.833333  \n",
      "178                       0.850000  \n",
      "179                       0.883333  \n",
      "180                       0.916667  \n",
      "181                       0.933333  \n",
      "182                       0.950000  \n",
      "184                       0.966667  \n",
      "187                       0.983333  \n",
      "188                       1.000000  \n"
     ]
    }
   ],
   "source": [
    "print(tabela_frequencias)"
   ]
  },
  {
   "cell_type": "code",
   "execution_count": 93,
   "id": "8016b4ec",
   "metadata": {},
   "outputs": [],
   "source": [
    "# Resetar o índice para usar os valores com categorias \n",
    "tabela_frequencias = tabela_frequencias.reset_index()\n",
    "tabela_frequencias.rename(columns={'index': 'Classe'}, inplace=True)"
   ]
  },
  {
   "cell_type": "code",
   "execution_count": 120,
   "id": "31059ecd",
   "metadata": {},
   "outputs": [],
   "source": [
    "## Definindo o estilo dos gráficos \n",
    "sns.set_style(\"whitegrid\")\n",
    "plt.rcParams['figure.figsize'] = (12, 8)"
   ]
  },
  {
   "cell_type": "code",
   "execution_count": 124,
   "id": "383f7e32",
   "metadata": {},
   "outputs": [
    {
     "data": {
      "text/plain": [
       "Text(0, 0.5, 'Frequência Absoluta')"
      ]
     },
     "execution_count": 124,
     "metadata": {},
     "output_type": "execute_result"
    },
    {
     "data": {
      "image/png": "[encoded data removed]",
      "text/plain": [
       "<Figure size 1200x600 with 1 Axes>"
      ]
     },
     "metadata": {},
     "output_type": "display_data"
    }
   ],
   "source": [
    "# 1. Histograma e Polígono de Frequência Absoluta\n",
    "plt.figure(figsize=(12,6))\n",
    "\n",
    "# Histograma da Frequência Absoluta \n",
    "sns.histplot(serie, bins=len(tabela_frequencias), kde=False, color='skyblue', edgecolor='black', alpha=0.7)\n",
    "plt.title('Histograma da Frequência Absoluta') \n",
    "plt.xlabel('Valores')\n",
    "plt.ylabel('Frequência Absoluta')"
   ]
  },
  {
   "cell_type": "code",
   "execution_count": 129,
   "id": "1dcd575a",
   "metadata": {},
   "outputs": [
    {
     "data": {
      "text/plain": [
       "Text(0, 0.5, 'Frequência Relativa')"
      ]
     },
     "execution_count": 129,
     "metadata": {},
     "output_type": "execute_result"
    },
    {
     "data": {
      "image/png": "[encoded data removed]",
      "text/plain": [
       "<Figure size 1200x600 with 1 Axes>"
      ]
     },
     "metadata": {},
     "output_type": "display_data"
    }
   ],
   "source": [
    "# Histograma da Frequência Relativa \n",
    "plt.figure(figsize=(12, 6))\n",
    "\n",
    "# Histograma da Frequência Relativa\n",
    "weights = [1./len(serie)] * len(serie) \n",
    "sns.histplot(serie, bins=len(tabela_frequencias), stat='probability', color='lightgreen', edgecolor='black', alpha=0.7)\n",
    "plt.title('Histograma da Frequência Relativa') \n",
    "plt.xlabel('Valores')\n",
    "plt.ylabel('Frequência Relativa')"
   ]
  },
  {
   "cell_type": "markdown",
   "id": "8684bc9c",
   "metadata": {},
   "source": [
    "### Polígonos"
   ]
  },
  {
   "cell_type": "code",
   "execution_count": 74,
   "id": "6058109c",
   "metadata": {},
   "outputs": [
    {
     "data": {
      "image/png": "[encoded data removed]",
      "text/plain": [
       "<Figure size 1400x600 with 1 Axes>"
      ]
     },
     "metadata": {},
     "output_type": "display_data"
    }
   ],
   "source": [
    "# ------------------\n",
    "# Plot: Polígonos\n",
    "# ------------------ \n",
    "\n",
    "plt.figure(figsize=(14,6))\n",
    "\n",
    "# Polígono da frequência absoluta \n",
    "plt.plot(frequencia_absoluta.index, frequencia_absoluta.values, marker='o', linestyle='-', label='Frequência Absoluta') \n",
    "\n",
    "# Poligono da frequência acumulada \n",
    "plt.plot(frequencia_absoluta_acumulada.index, frequencia_absoluta_acumulada.values, marker='s', linestyle='--', label='Frequência Acumulada') \n",
    "\n",
    "plt.title('Polígonos de Frequência') \n",
    "plt.xlabel('Valores') \n",
    "plt.ylabel('Frequência') \n",
    "plt.legend() \n",
    "plt.grid(True) \n",
    "\n",
    "plt.tight_layout()\n",
    "plt.show()"
   ]
  },
  {
   "cell_type": "markdown",
   "id": "4f145669",
   "metadata": {},
   "source": [
    "### 4) Quais percentuais da distribuição estão dentro de um e de dois desvio padrão da média? "
   ]
  },
  {
   "cell_type": "code",
   "execution_count": 149,
   "id": "e15c12cc",
   "metadata": {},
   "outputs": [],
   "source": [
    "# Dados fornecidos (Ordenação dos dados)\n",
    "dados = [\n",
    "    161, 162, 163, 163, 163, 164, 165, 165, 165, 166,\n",
    "    166, 166, 167, 167, 167, 168, 168, 168, 168, 168,\n",
    "    169, 169, 169, 169, 169, 170, 170, 170, 170, 170,\n",
    "    171, 171, 171, 172, 172, 172, 172, 173, 173, 174,\n",
    "    174, 174, 175, 175, 175, 176, 176, 176, 177, 177,\n",
    "    178, 179, 179, 180, 180, 181, 182, 184, 187, 188\n",
    "]"
   ]
  },
  {
   "cell_type": "code",
   "execution_count": 151,
   "id": "1ce80f11",
   "metadata": {},
   "outputs": [],
   "source": [
    "# Cálculos estatísticos \n",
    "media = np.mean(dados) \n",
    "desvio = np.std(dados)"
   ]
  },
  {
   "cell_type": "code",
   "execution_count": 152,
   "id": "61b290d5",
   "metadata": {},
   "outputs": [],
   "source": [
    "# Intervalos \n",
    "um_desvio_min = media - desvio \n",
    "um_desvio_max = media + desvio \n",
    "dois_desvios_min = media - 2 * desvio \n",
    "dois_desvios_max = media + 2 * desvio "
   ]
  },
  {
   "cell_type": "code",
   "execution_count": 161,
   "id": "3c1172b8",
   "metadata": {},
   "outputs": [
    {
     "data": {
      "image/png": "[encoded data removed]",
      "text/plain": [
       "<Figure size 1200x600 with 1 Axes>"
      ]
     },
     "metadata": {},
     "output_type": "display_data"
    }
   ],
   "source": [
    "# Plot da distribuição \n",
    "plt.figure(figsize=(12,6))\n",
    "sns.histplot(dados, bins=15, kde=True, color='skyblue', edgecolor='black')\n",
    "\n",
    "# Sombras para 1 desvio padrão \n",
    "plt.axvspan(um_desvio_min, um_desvio_max, color='orange', alpha=0.2, label='±1 Desvio padrão') \n",
    "\n",
    "# Sombras para 2 desvios padrão \n",
    "plt.axvspan(dois_desvios_min, dois_desvios_max, color='orange', alpha=0.2, label='±2 Desvio padrão') \n",
    "\n",
    "# Linha da média \n",
    "plt.axvline(media, color='red', linestyle='--', linewidth=2, label='Média') \n",
    "\n",
    "# Rótulos e legenda \n",
    "plt.title('Distribuição dos dados com Intervalos de Desvio Padrão') \n",
    "plt.xlabel('Valor')\n",
    "plt.ylabel('Frequência') \n",
    "plt.legend() \n",
    "plt.grid(True) \n",
    "plt.tight_layout()\n",
    "plt.show()"
   ]
  },
  {
   "cell_type": "markdown",
   "id": "2b71b4e0",
   "metadata": {},
   "source": [
    "### 5) Como esses resultados estão de acordo com a Regra Empírica ? "
   ]
  },
  {
   "cell_type": "code",
   "execution_count": 166,
   "id": "94d9656a",
   "metadata": {},
   "outputs": [
    {
     "name": "stdout",
     "output_type": "stream",
     "text": [
      "Média dos dados: 171.65\n",
      "Desvio Padrão dos dados: 6.11\n",
      "\n"
     ]
    }
   ],
   "source": [
    "### 1 - Preparar os dados para análise -- \n",
    "# Empilhar todas as colunas numéricas em uma única série \n",
    "# Isso é útil se seus dados estão espalhados por várias colunas \n",
    "\n",
    "dados_numeric = df.select_dtypes(include=np.number) \n",
    "todos_os_valores = dados_numeric.stack().reset_index(drop=True) \n",
    "\n",
    "# --- 2. Calcular Média e Desvio Padrão --- \n",
    "media = todos_os_valores.mean()\n",
    "desvio_padrao = todos_os_valores.std()\n",
    "\n",
    "print(f\"Média dos dados: {media:.2f}\")\n",
    "print(f\"Desvio Padrão dos dados: {desvio_padrao:.2f}\\n\")"
   ]
  },
  {
   "cell_type": "code",
   "execution_count": 167,
   "id": "a894f46d",
   "metadata": {},
   "outputs": [],
   "source": [
    "# --- 3. Calcular os limites para 1 e 2 desvio Padrão --- \n",
    "# Limites para 1 desvio padrão \n",
    "limite_inf_1dp = media - desvio_padrao \n",
    "limite_sup_1dp = media + desvio_padrao \n"
   ]
  },
  {
   "cell_type": "code",
   "execution_count": 168,
   "id": "7659447e",
   "metadata": {},
   "outputs": [],
   "source": [
    "# Limites para 2 desvios padrão \n",
    "limite_inf_2dp = media - (2 * desvio_padrao) \n",
    "limite_sup_2dp = media + (2 * desvio_padrao) "
   ]
  },
  {
   "cell_type": "code",
   "execution_count": 169,
   "id": "7001444a",
   "metadata": {},
   "outputs": [],
   "source": [
    "# --- 4. Contar os dados dentro dos limites --- \n",
    "# Dados dentro de 1 desvio padrão \n",
    "dentro_1dp = todos_os_valores[\n",
    "    \n",
    "    (todos_os_valores >= limite_inf_1dp) & (todos_os_valores <= limite_sup_1dp)\n",
    "]\n",
    "\n",
    "percentual_1dp = (len(dentro_1dp) / (len(todos_os_valores)) * 100) "
   ]
  },
  {
   "cell_type": "code",
   "execution_count": 173,
   "id": "485c05e0",
   "metadata": {},
   "outputs": [],
   "source": [
    "# Dados dentro de 2 desvios padrão \n",
    "dentro_2dp = todos_os_valores[\n",
    "    (todos_os_valores >= limite_inf_2dp) & (todos_os_valores <= limite_sup_2dp)\n",
    "]\n",
    "\n",
    "percentual_2dp = (len(dentro_2dp) / len(todos_os_valores)) * 100 "
   ]
  },
  {
   "cell_type": "code",
   "execution_count": 176,
   "id": "98d888f1",
   "metadata": {},
   "outputs": [
    {
     "name": "stdout",
     "output_type": "stream",
     "text": [
      "--- Análise da Distribuição ---\n",
      "Percentual de dados dentro de 1 desvio padrão: 68.33%\n",
      "Percentual de dados dentro de 2 desvios padrão: 95.00%\n",
      "\n"
     ]
    }
   ],
   "source": [
    "### 5. Apresentar os resultados  comparar com a Regra Empírica -- \n",
    "print(\"--- Análise da Distribuição ---\") \n",
    "print(f\"Percentual de dados dentro de 1 desvio padrão: {percentual_1dp:.2f}%\")\n",
    "print(f\"Percentual de dados dentro de 2 desvios padrão: {percentual_2dp:.2f}%\\n\")"
   ]
  },
  {
   "cell_type": "code",
   "execution_count": 179,
   "id": "dc540307",
   "metadata": {},
   "outputs": [
    {
     "name": "stdout",
     "output_type": "stream",
     "text": [
      "---Comparação com a Regra Empírica (68-95-99.7)\n",
      "Regra Empírica (1 desvio padrão): ~68%\n",
      "Seus dados (1 desvio padrão): 68.33 %\n"
     ]
    }
   ],
   "source": [
    "print(\"---Comparação com a Regra Empírica (68-95-99.7)\")\n",
    "print(f\"Regra Empírica (1 desvio padrão): ~68%\") \n",
    "print(f\"Seus dados (1 desvio padrão): {percentual_1dp:.2f} %\")"
   ]
  },
  {
   "cell_type": "code",
   "execution_count": 182,
   "id": "e3d9f1fc",
   "metadata": {},
   "outputs": [
    {
     "name": "stdout",
     "output_type": "stream",
     "text": [
      "-> Seus dados estão muito próximos do esperado pela Regra Empírica para 1 desvio padrão. \n",
      "\n",
      "Regra Empírica (2 desvios padrão): ~95%\n",
      "Seus dados (2 desvios padrão): 95.00%\n"
     ]
    }
   ],
   "source": [
    "if percentual_1dp >= 67 and percentual_1dp <= 69: \n",
    "    \n",
    "    print(\"-> Seus dados estão muito próximos do esperado pela Regra Empírica para 1 desvio padrão. \")\n",
    "\n",
    "elif percentual_1dp > 69: \n",
    "    \n",
    "    print(\"-> Seus dados têm um percentual ligeiramente maior dentro de 1 desvio padrão do que o esperado pela Regra Empírica. \")\n",
    "    \n",
    "else: \n",
    "    \n",
    "    print(\"-> Seus dados têm um percentual ligeiramente menor dentro de 1 desvio padrão do que pela Regra Empírica.\")\n",
    "    \n",
    "print(f\"\\nRegra Empírica (2 desvios padrão): ~95%\") \n",
    "print(f\"Seus dados (2 desvios padrão): {percentual_2dp:.2f}%\")"
   ]
  },
  {
   "cell_type": "code",
   "execution_count": 183,
   "id": "fb025829",
   "metadata": {},
   "outputs": [
    {
     "name": "stdout",
     "output_type": "stream",
     "text": [
      "-> Seus dados estão muito próximos do esperado pela Regra Empírica para 2 desvios padrão. \n",
      "\n",
      " Conclusão: As pequenas variações em relação à Regra Empírica sugerem que seus dados podem não ser perfeitamente normais, mas são aproximadamente normais, o que é comun em dados reais\n"
     ]
    }
   ],
   "source": [
    "if percentual_2dp >= 94 and percentual_2dp <= 96: \n",
    "    \n",
    "    print(\"-> Seus dados estão muito próximos do esperado pela Regra Empírica para 2 desvios padrão. \")\n",
    "    \n",
    "elif percentual_2dp > 96: \n",
    "    \n",
    "    print(\"-> Seus dados têm um percentual ligeiramente maior dentro de 2 desvios padrãoes do que o esperado pela Regra Empírica.\")\n",
    "    \n",
    "print(\"\\n Conclusão: As pequenas variações em relação à Regra Empírica sugerem que seus dados podem não ser perfeitamente normais, mas são aproximadamente normais, o que é comun em dados reais\")"
   ]
  },
  {
   "cell_type": "markdown",
   "id": "f440c866",
   "metadata": {},
   "source": [
    "### 6) Classifique, quanto a assimetria e a curtose, a distribuição amostral das alturas desse grupo de pessoas; "
   ]
  },
  {
   "cell_type": "code",
   "execution_count": 185,
   "id": "50aa2d18",
   "metadata": {},
   "outputs": [],
   "source": [
    "# Empilhar todas as colunas numéricas em única série \n",
    "dados_numeric = df.select_dtypes(include=np.number)"
   ]
  },
  {
   "cell_type": "code",
   "execution_count": 186,
   "id": "f06c78ba",
   "metadata": {},
   "outputs": [],
   "source": [
    "## Seleciona apenas colunas númericas \n",
    "todos_os_valores = dados_numeric.stack().reset_index(drop=True)"
   ]
  },
  {
   "cell_type": "code",
   "execution_count": 188,
   "id": "4ada1f08",
   "metadata": {},
   "outputs": [],
   "source": [
    "## Calcular Assimetria (Skewness) e Curtose (Kurtosis) --- \n",
    "assimetria = todos_os_valores.skew()\n",
    "curtose = todos_os_valores.kurt() "
   ]
  },
  {
   "cell_type": "code",
   "execution_count": 189,
   "id": "c62c80b3",
   "metadata": {},
   "outputs": [
    {
     "name": "stdout",
     "output_type": "stream",
     "text": [
      "Assimetria (Skewness): 0.6245\n",
      "Curtose (Kurtosis, Excess): 0.1036\n",
      "\n"
     ]
    }
   ],
   "source": [
    "print(f\"Assimetria (Skewness): {assimetria:.4f}\") \n",
    "print(f\"Curtose (Kurtosis, Excess): {curtose:.4f}\\n\")"
   ]
  },
  {
   "cell_type": "code",
   "execution_count": 191,
   "id": "605a850b",
   "metadata": {},
   "outputs": [
    {
     "name": "stdout",
     "output_type": "stream",
     "text": [
      "--- Classificação da Assimetria ---\n",
      "A distribuição é assimétrica ** positiva (à direita)**. Isso significa que a cauda direita é mais longa ou mais 'pesada', e a maioria dos dados está concentrada nos valores mais baixos, com alguns valores extremos altos puxando a média para cima\n"
     ]
    }
   ],
   "source": [
    "## Classificar a Assimetria \n",
    "print(\"--- Classificação da Assimetria ---\") \n",
    "\n",
    "if assimetria > 0.5: \n",
    "    \n",
    "    print(f\"A distribuição é assimétrica ** positiva (à direita)**. Isso significa que a cauda direita é mais longa ou mais 'pesada', e a maioria dos dados está concentrada nos valores mais baixos, com alguns valores extremos altos puxando a média para cima\")\n",
    "    \n",
    "elif assimetria < -0.5: \n",
    "    \n",
    "    print(f\"A distribuição é assimétrica ** negativa (à esquerda)**. Isso significa que a cauda esquerda é mais longa ou mais 'pesada', e a maioria dos dados está concentrada nos valores mais altos, com alguns valores extremos baixos puxando a média para baixo\")\n",
    "    \n",
    "elif -0.5 <= assimetria <= 0.5: \n",
    "    \n",
    "    print(f\"Assismetria: {assimetria: .4f}. Interpretação adicional pode ser necessária. \")\n",
    "    "
   ]
  },
  {
   "cell_type": "code",
   "execution_count": 192,
   "id": "87969791",
   "metadata": {},
   "outputs": [
    {
     "name": "stdout",
     "output_type": "stream",
     "text": [
      "\n",
      " --- Classificação da Curtose ---\n",
      "Curtose: 0.1036. Interpretação adicional pode ser necessária.\n"
     ]
    }
   ],
   "source": [
    "### Classificar a Curtose \n",
    "print(\"\\n --- Classificação da Curtose ---\") \n",
    "\n",
    "if curtose > 1: \n",
    "    \n",
    "    print(f\"A distribuição é ** Leptocúrtica **. Isso significa que a distribuição tem um pico mais alto e caudas mais pesadas (mais valores extremos) do que uma distribuição normal. Há maior concentração de dados em torno da média e mais outliers\")\n",
    "    \n",
    "elif curtose < -1: \n",
    "    \n",
    "    print(f\"A distribuição é ** platicúrtica **. Isso signfica que a distribuição tem um pico mais baixo e caudas mais leves (menos valores extremos) do que uma distribuição normal. Os dados estão mais dispersos e têm uma variação menor na frequência dos valores extremos.\")\n",
    "\n",
    "elif -1 <= curtose <= 1: \n",
    "    \n",
    "    print(f\"Curtose: {curtose:.4f}. Interpretação adicional pode ser necessária.\")"
   ]
  },
  {
   "cell_type": "code",
   "execution_count": 193,
   "id": "c61dcf2f",
   "metadata": {},
   "outputs": [
    {
     "name": "stdout",
     "output_type": "stream",
     "text": [
      "Com base nos calcúlos, a distribuição das alturas é classificada como: \n",
      " - Assimetria: Positiva (à direita)\n",
      "- Curtose: Mesocúrtica\n"
     ]
    }
   ],
   "source": [
    "## Resumo \n",
    "print(f\"Com base nos calcúlos, a distribuição das alturas é classificada como: \") \n",
    "print(f\" - Assimetria: {'Positiva (à direita)' if assimetria > 0.5 else 'Negativa (a esquerda)' if assimetria < -0.5 else 'Aproximadamente Simétrica'}\") \n",
    "print(f\"- Curtose: {'Leptocúrtica' if curtose > 1 else 'Platicúrtica' if curtose < -1 else 'Mesocúrtica'}\")\n"
   ]
  }
 ],
 "metadata": {
  "kernelspec": {
   "display_name": "Python 3 (ipykernel)",
   "language": "python",
   "name": "python3"
  },
  "language_info": {
   "codemirror_mode": {
    "name": "ipython",
    "version": 3
   },
   "file_extension": ".py",
   "mimetype": "text/x-python",
   "name": "python",
   "nbconvert_exporter": "python",
   "pygments_lexer": "ipython3",
   "version": "3.9.13"
  }
 },
 "nbformat": 4,
 "nbformat_minor": 5
}
